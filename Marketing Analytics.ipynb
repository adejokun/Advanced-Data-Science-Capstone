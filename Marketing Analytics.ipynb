{
 "cells": [
  {
   "cell_type": "markdown",
   "metadata": {},
   "source": [
    "# Marketing Analytics: Customer Behaviour Profiling and Prediction"
   ]
  },
  {
   "cell_type": "markdown",
   "metadata": {},
   "source": [
    "Targeted Marketing campaigns are a very effective means of reaching prospective customers. However, such campaigns must be predicated on an empirical and systematic framework.  A predictive classification model derived from a supervised machine learning algorithm presents such a framework. Sections of a prescribed customer-base can be delineated for preferential marketing outreach based on classification output from a predictive model.\n",
    "\n",
    "A dataset that has been generated from a telemarketing campaign to sell long-term bank deposit subscriptions of a Portuguese Retail Bank is used to train the predictive model. The dataset is obtained from the UCI Machine Learning Repository\n",
    "\n",
    "The dataset is conceptually divided into, for every entry, a feature set and a target label. The feature set is comprised of client-related data and assocaited socio-economic indicators. The target label consisits of a binary-class that indicates the subscription outcome of a client - yes or no.\n",
    "\n",
    "http://archive.ics.uci.edu/ml/machine-learning-databases/00222/bank-additional.zip\n",
    "\n",
    "References:\n",
    "\n",
    "[1] S. Moro, P. Cortez and P. Rita (2014). UCI Machine Learning Repository [http://archive.ics.uci.edu/ml]. Irvine, CA: University of California, School of Information and Computer Science.\n",
    "\n",
    "[2] S. Moro, P. Cortez and P. Rita. A Data-Driven Approach to Predict the Success of Bank Telemarketing. Decision Support Systems, Elsevier, 62:22-31, June 2014"
   ]
  },
  {
   "cell_type": "markdown",
   "metadata": {},
   "source": [
    "## ETL Process"
   ]
  },
  {
   "cell_type": "markdown",
   "metadata": {},
   "source": [
    "### Import Dependencies"
   ]
  },
  {
   "cell_type": "code",
   "execution_count": 1,
   "metadata": {},
   "outputs": [],
   "source": [
    "import pandas as pd\n",
    "import numpy as np\n",
    "\n",
    "import matplotlib.pyplot as plt\n",
    "import seaborn as sns\n",
    "\n",
    "pd.set_option('display.max_columns', None)"
   ]
  },
  {
   "cell_type": "code",
   "execution_count": 2,
   "metadata": {
    "scrolled": true
   },
   "outputs": [
    {
     "data": {
      "text/html": [
       "<div>\n",
       "<style scoped>\n",
       "    .dataframe tbody tr th:only-of-type {\n",
       "        vertical-align: middle;\n",
       "    }\n",
       "\n",
       "    .dataframe tbody tr th {\n",
       "        vertical-align: top;\n",
       "    }\n",
       "\n",
       "    .dataframe thead th {\n",
       "        text-align: right;\n",
       "    }\n",
       "</style>\n",
       "<table border=\"1\" class=\"dataframe\">\n",
       "  <thead>\n",
       "    <tr style=\"text-align: right;\">\n",
       "      <th></th>\n",
       "      <th>age</th>\n",
       "      <th>job</th>\n",
       "      <th>marital</th>\n",
       "      <th>education</th>\n",
       "      <th>default</th>\n",
       "      <th>housing</th>\n",
       "      <th>loan</th>\n",
       "      <th>contact</th>\n",
       "      <th>month</th>\n",
       "      <th>day_of_week</th>\n",
       "      <th>duration</th>\n",
       "      <th>campaign</th>\n",
       "      <th>pdays</th>\n",
       "      <th>previous</th>\n",
       "      <th>poutcome</th>\n",
       "      <th>emp.var.rate</th>\n",
       "      <th>cons.price.idx</th>\n",
       "      <th>cons.conf.idx</th>\n",
       "      <th>euribor3m</th>\n",
       "      <th>nr.employed</th>\n",
       "      <th>y</th>\n",
       "    </tr>\n",
       "  </thead>\n",
       "  <tbody>\n",
       "    <tr>\n",
       "      <td>0</td>\n",
       "      <td>56</td>\n",
       "      <td>housemaid</td>\n",
       "      <td>married</td>\n",
       "      <td>basic.4y</td>\n",
       "      <td>no</td>\n",
       "      <td>no</td>\n",
       "      <td>no</td>\n",
       "      <td>telephone</td>\n",
       "      <td>may</td>\n",
       "      <td>mon</td>\n",
       "      <td>261</td>\n",
       "      <td>1</td>\n",
       "      <td>999</td>\n",
       "      <td>0</td>\n",
       "      <td>nonexistent</td>\n",
       "      <td>1.1</td>\n",
       "      <td>93.994</td>\n",
       "      <td>-36.4</td>\n",
       "      <td>4.857</td>\n",
       "      <td>5191.0</td>\n",
       "      <td>no</td>\n",
       "    </tr>\n",
       "    <tr>\n",
       "      <td>1</td>\n",
       "      <td>57</td>\n",
       "      <td>services</td>\n",
       "      <td>married</td>\n",
       "      <td>high.school</td>\n",
       "      <td>unknown</td>\n",
       "      <td>no</td>\n",
       "      <td>no</td>\n",
       "      <td>telephone</td>\n",
       "      <td>may</td>\n",
       "      <td>mon</td>\n",
       "      <td>149</td>\n",
       "      <td>1</td>\n",
       "      <td>999</td>\n",
       "      <td>0</td>\n",
       "      <td>nonexistent</td>\n",
       "      <td>1.1</td>\n",
       "      <td>93.994</td>\n",
       "      <td>-36.4</td>\n",
       "      <td>4.857</td>\n",
       "      <td>5191.0</td>\n",
       "      <td>no</td>\n",
       "    </tr>\n",
       "    <tr>\n",
       "      <td>2</td>\n",
       "      <td>37</td>\n",
       "      <td>services</td>\n",
       "      <td>married</td>\n",
       "      <td>high.school</td>\n",
       "      <td>no</td>\n",
       "      <td>yes</td>\n",
       "      <td>no</td>\n",
       "      <td>telephone</td>\n",
       "      <td>may</td>\n",
       "      <td>mon</td>\n",
       "      <td>226</td>\n",
       "      <td>1</td>\n",
       "      <td>999</td>\n",
       "      <td>0</td>\n",
       "      <td>nonexistent</td>\n",
       "      <td>1.1</td>\n",
       "      <td>93.994</td>\n",
       "      <td>-36.4</td>\n",
       "      <td>4.857</td>\n",
       "      <td>5191.0</td>\n",
       "      <td>no</td>\n",
       "    </tr>\n",
       "    <tr>\n",
       "      <td>3</td>\n",
       "      <td>40</td>\n",
       "      <td>admin.</td>\n",
       "      <td>married</td>\n",
       "      <td>basic.6y</td>\n",
       "      <td>no</td>\n",
       "      <td>no</td>\n",
       "      <td>no</td>\n",
       "      <td>telephone</td>\n",
       "      <td>may</td>\n",
       "      <td>mon</td>\n",
       "      <td>151</td>\n",
       "      <td>1</td>\n",
       "      <td>999</td>\n",
       "      <td>0</td>\n",
       "      <td>nonexistent</td>\n",
       "      <td>1.1</td>\n",
       "      <td>93.994</td>\n",
       "      <td>-36.4</td>\n",
       "      <td>4.857</td>\n",
       "      <td>5191.0</td>\n",
       "      <td>no</td>\n",
       "    </tr>\n",
       "    <tr>\n",
       "      <td>4</td>\n",
       "      <td>56</td>\n",
       "      <td>services</td>\n",
       "      <td>married</td>\n",
       "      <td>high.school</td>\n",
       "      <td>no</td>\n",
       "      <td>no</td>\n",
       "      <td>yes</td>\n",
       "      <td>telephone</td>\n",
       "      <td>may</td>\n",
       "      <td>mon</td>\n",
       "      <td>307</td>\n",
       "      <td>1</td>\n",
       "      <td>999</td>\n",
       "      <td>0</td>\n",
       "      <td>nonexistent</td>\n",
       "      <td>1.1</td>\n",
       "      <td>93.994</td>\n",
       "      <td>-36.4</td>\n",
       "      <td>4.857</td>\n",
       "      <td>5191.0</td>\n",
       "      <td>no</td>\n",
       "    </tr>\n",
       "    <tr>\n",
       "      <td>5</td>\n",
       "      <td>45</td>\n",
       "      <td>services</td>\n",
       "      <td>married</td>\n",
       "      <td>basic.9y</td>\n",
       "      <td>unknown</td>\n",
       "      <td>no</td>\n",
       "      <td>no</td>\n",
       "      <td>telephone</td>\n",
       "      <td>may</td>\n",
       "      <td>mon</td>\n",
       "      <td>198</td>\n",
       "      <td>1</td>\n",
       "      <td>999</td>\n",
       "      <td>0</td>\n",
       "      <td>nonexistent</td>\n",
       "      <td>1.1</td>\n",
       "      <td>93.994</td>\n",
       "      <td>-36.4</td>\n",
       "      <td>4.857</td>\n",
       "      <td>5191.0</td>\n",
       "      <td>no</td>\n",
       "    </tr>\n",
       "    <tr>\n",
       "      <td>6</td>\n",
       "      <td>59</td>\n",
       "      <td>admin.</td>\n",
       "      <td>married</td>\n",
       "      <td>professional.course</td>\n",
       "      <td>no</td>\n",
       "      <td>no</td>\n",
       "      <td>no</td>\n",
       "      <td>telephone</td>\n",
       "      <td>may</td>\n",
       "      <td>mon</td>\n",
       "      <td>139</td>\n",
       "      <td>1</td>\n",
       "      <td>999</td>\n",
       "      <td>0</td>\n",
       "      <td>nonexistent</td>\n",
       "      <td>1.1</td>\n",
       "      <td>93.994</td>\n",
       "      <td>-36.4</td>\n",
       "      <td>4.857</td>\n",
       "      <td>5191.0</td>\n",
       "      <td>no</td>\n",
       "    </tr>\n",
       "    <tr>\n",
       "      <td>7</td>\n",
       "      <td>41</td>\n",
       "      <td>blue-collar</td>\n",
       "      <td>married</td>\n",
       "      <td>unknown</td>\n",
       "      <td>unknown</td>\n",
       "      <td>no</td>\n",
       "      <td>no</td>\n",
       "      <td>telephone</td>\n",
       "      <td>may</td>\n",
       "      <td>mon</td>\n",
       "      <td>217</td>\n",
       "      <td>1</td>\n",
       "      <td>999</td>\n",
       "      <td>0</td>\n",
       "      <td>nonexistent</td>\n",
       "      <td>1.1</td>\n",
       "      <td>93.994</td>\n",
       "      <td>-36.4</td>\n",
       "      <td>4.857</td>\n",
       "      <td>5191.0</td>\n",
       "      <td>no</td>\n",
       "    </tr>\n",
       "    <tr>\n",
       "      <td>8</td>\n",
       "      <td>24</td>\n",
       "      <td>technician</td>\n",
       "      <td>single</td>\n",
       "      <td>professional.course</td>\n",
       "      <td>no</td>\n",
       "      <td>yes</td>\n",
       "      <td>no</td>\n",
       "      <td>telephone</td>\n",
       "      <td>may</td>\n",
       "      <td>mon</td>\n",
       "      <td>380</td>\n",
       "      <td>1</td>\n",
       "      <td>999</td>\n",
       "      <td>0</td>\n",
       "      <td>nonexistent</td>\n",
       "      <td>1.1</td>\n",
       "      <td>93.994</td>\n",
       "      <td>-36.4</td>\n",
       "      <td>4.857</td>\n",
       "      <td>5191.0</td>\n",
       "      <td>no</td>\n",
       "    </tr>\n",
       "    <tr>\n",
       "      <td>9</td>\n",
       "      <td>25</td>\n",
       "      <td>services</td>\n",
       "      <td>single</td>\n",
       "      <td>high.school</td>\n",
       "      <td>no</td>\n",
       "      <td>yes</td>\n",
       "      <td>no</td>\n",
       "      <td>telephone</td>\n",
       "      <td>may</td>\n",
       "      <td>mon</td>\n",
       "      <td>50</td>\n",
       "      <td>1</td>\n",
       "      <td>999</td>\n",
       "      <td>0</td>\n",
       "      <td>nonexistent</td>\n",
       "      <td>1.1</td>\n",
       "      <td>93.994</td>\n",
       "      <td>-36.4</td>\n",
       "      <td>4.857</td>\n",
       "      <td>5191.0</td>\n",
       "      <td>no</td>\n",
       "    </tr>\n",
       "    <tr>\n",
       "      <td>10</td>\n",
       "      <td>41</td>\n",
       "      <td>blue-collar</td>\n",
       "      <td>married</td>\n",
       "      <td>unknown</td>\n",
       "      <td>unknown</td>\n",
       "      <td>no</td>\n",
       "      <td>no</td>\n",
       "      <td>telephone</td>\n",
       "      <td>may</td>\n",
       "      <td>mon</td>\n",
       "      <td>55</td>\n",
       "      <td>1</td>\n",
       "      <td>999</td>\n",
       "      <td>0</td>\n",
       "      <td>nonexistent</td>\n",
       "      <td>1.1</td>\n",
       "      <td>93.994</td>\n",
       "      <td>-36.4</td>\n",
       "      <td>4.857</td>\n",
       "      <td>5191.0</td>\n",
       "      <td>no</td>\n",
       "    </tr>\n",
       "    <tr>\n",
       "      <td>11</td>\n",
       "      <td>25</td>\n",
       "      <td>services</td>\n",
       "      <td>single</td>\n",
       "      <td>high.school</td>\n",
       "      <td>no</td>\n",
       "      <td>yes</td>\n",
       "      <td>no</td>\n",
       "      <td>telephone</td>\n",
       "      <td>may</td>\n",
       "      <td>mon</td>\n",
       "      <td>222</td>\n",
       "      <td>1</td>\n",
       "      <td>999</td>\n",
       "      <td>0</td>\n",
       "      <td>nonexistent</td>\n",
       "      <td>1.1</td>\n",
       "      <td>93.994</td>\n",
       "      <td>-36.4</td>\n",
       "      <td>4.857</td>\n",
       "      <td>5191.0</td>\n",
       "      <td>no</td>\n",
       "    </tr>\n",
       "    <tr>\n",
       "      <td>12</td>\n",
       "      <td>29</td>\n",
       "      <td>blue-collar</td>\n",
       "      <td>single</td>\n",
       "      <td>high.school</td>\n",
       "      <td>no</td>\n",
       "      <td>no</td>\n",
       "      <td>yes</td>\n",
       "      <td>telephone</td>\n",
       "      <td>may</td>\n",
       "      <td>mon</td>\n",
       "      <td>137</td>\n",
       "      <td>1</td>\n",
       "      <td>999</td>\n",
       "      <td>0</td>\n",
       "      <td>nonexistent</td>\n",
       "      <td>1.1</td>\n",
       "      <td>93.994</td>\n",
       "      <td>-36.4</td>\n",
       "      <td>4.857</td>\n",
       "      <td>5191.0</td>\n",
       "      <td>no</td>\n",
       "    </tr>\n",
       "    <tr>\n",
       "      <td>13</td>\n",
       "      <td>57</td>\n",
       "      <td>housemaid</td>\n",
       "      <td>divorced</td>\n",
       "      <td>basic.4y</td>\n",
       "      <td>no</td>\n",
       "      <td>yes</td>\n",
       "      <td>no</td>\n",
       "      <td>telephone</td>\n",
       "      <td>may</td>\n",
       "      <td>mon</td>\n",
       "      <td>293</td>\n",
       "      <td>1</td>\n",
       "      <td>999</td>\n",
       "      <td>0</td>\n",
       "      <td>nonexistent</td>\n",
       "      <td>1.1</td>\n",
       "      <td>93.994</td>\n",
       "      <td>-36.4</td>\n",
       "      <td>4.857</td>\n",
       "      <td>5191.0</td>\n",
       "      <td>no</td>\n",
       "    </tr>\n",
       "    <tr>\n",
       "      <td>14</td>\n",
       "      <td>35</td>\n",
       "      <td>blue-collar</td>\n",
       "      <td>married</td>\n",
       "      <td>basic.6y</td>\n",
       "      <td>no</td>\n",
       "      <td>yes</td>\n",
       "      <td>no</td>\n",
       "      <td>telephone</td>\n",
       "      <td>may</td>\n",
       "      <td>mon</td>\n",
       "      <td>146</td>\n",
       "      <td>1</td>\n",
       "      <td>999</td>\n",
       "      <td>0</td>\n",
       "      <td>nonexistent</td>\n",
       "      <td>1.1</td>\n",
       "      <td>93.994</td>\n",
       "      <td>-36.4</td>\n",
       "      <td>4.857</td>\n",
       "      <td>5191.0</td>\n",
       "      <td>no</td>\n",
       "    </tr>\n",
       "    <tr>\n",
       "      <td>15</td>\n",
       "      <td>54</td>\n",
       "      <td>retired</td>\n",
       "      <td>married</td>\n",
       "      <td>basic.9y</td>\n",
       "      <td>unknown</td>\n",
       "      <td>yes</td>\n",
       "      <td>yes</td>\n",
       "      <td>telephone</td>\n",
       "      <td>may</td>\n",
       "      <td>mon</td>\n",
       "      <td>174</td>\n",
       "      <td>1</td>\n",
       "      <td>999</td>\n",
       "      <td>0</td>\n",
       "      <td>nonexistent</td>\n",
       "      <td>1.1</td>\n",
       "      <td>93.994</td>\n",
       "      <td>-36.4</td>\n",
       "      <td>4.857</td>\n",
       "      <td>5191.0</td>\n",
       "      <td>no</td>\n",
       "    </tr>\n",
       "    <tr>\n",
       "      <td>16</td>\n",
       "      <td>35</td>\n",
       "      <td>blue-collar</td>\n",
       "      <td>married</td>\n",
       "      <td>basic.6y</td>\n",
       "      <td>no</td>\n",
       "      <td>yes</td>\n",
       "      <td>no</td>\n",
       "      <td>telephone</td>\n",
       "      <td>may</td>\n",
       "      <td>mon</td>\n",
       "      <td>312</td>\n",
       "      <td>1</td>\n",
       "      <td>999</td>\n",
       "      <td>0</td>\n",
       "      <td>nonexistent</td>\n",
       "      <td>1.1</td>\n",
       "      <td>93.994</td>\n",
       "      <td>-36.4</td>\n",
       "      <td>4.857</td>\n",
       "      <td>5191.0</td>\n",
       "      <td>no</td>\n",
       "    </tr>\n",
       "    <tr>\n",
       "      <td>17</td>\n",
       "      <td>46</td>\n",
       "      <td>blue-collar</td>\n",
       "      <td>married</td>\n",
       "      <td>basic.6y</td>\n",
       "      <td>unknown</td>\n",
       "      <td>yes</td>\n",
       "      <td>yes</td>\n",
       "      <td>telephone</td>\n",
       "      <td>may</td>\n",
       "      <td>mon</td>\n",
       "      <td>440</td>\n",
       "      <td>1</td>\n",
       "      <td>999</td>\n",
       "      <td>0</td>\n",
       "      <td>nonexistent</td>\n",
       "      <td>1.1</td>\n",
       "      <td>93.994</td>\n",
       "      <td>-36.4</td>\n",
       "      <td>4.857</td>\n",
       "      <td>5191.0</td>\n",
       "      <td>no</td>\n",
       "    </tr>\n",
       "    <tr>\n",
       "      <td>18</td>\n",
       "      <td>50</td>\n",
       "      <td>blue-collar</td>\n",
       "      <td>married</td>\n",
       "      <td>basic.9y</td>\n",
       "      <td>no</td>\n",
       "      <td>yes</td>\n",
       "      <td>yes</td>\n",
       "      <td>telephone</td>\n",
       "      <td>may</td>\n",
       "      <td>mon</td>\n",
       "      <td>353</td>\n",
       "      <td>1</td>\n",
       "      <td>999</td>\n",
       "      <td>0</td>\n",
       "      <td>nonexistent</td>\n",
       "      <td>1.1</td>\n",
       "      <td>93.994</td>\n",
       "      <td>-36.4</td>\n",
       "      <td>4.857</td>\n",
       "      <td>5191.0</td>\n",
       "      <td>no</td>\n",
       "    </tr>\n",
       "    <tr>\n",
       "      <td>19</td>\n",
       "      <td>39</td>\n",
       "      <td>management</td>\n",
       "      <td>single</td>\n",
       "      <td>basic.9y</td>\n",
       "      <td>unknown</td>\n",
       "      <td>no</td>\n",
       "      <td>no</td>\n",
       "      <td>telephone</td>\n",
       "      <td>may</td>\n",
       "      <td>mon</td>\n",
       "      <td>195</td>\n",
       "      <td>1</td>\n",
       "      <td>999</td>\n",
       "      <td>0</td>\n",
       "      <td>nonexistent</td>\n",
       "      <td>1.1</td>\n",
       "      <td>93.994</td>\n",
       "      <td>-36.4</td>\n",
       "      <td>4.857</td>\n",
       "      <td>5191.0</td>\n",
       "      <td>no</td>\n",
       "    </tr>\n",
       "  </tbody>\n",
       "</table>\n",
       "</div>"
      ],
      "text/plain": [
       "    age          job   marital            education  default housing loan  \\\n",
       "0    56    housemaid   married             basic.4y       no      no   no   \n",
       "1    57     services   married          high.school  unknown      no   no   \n",
       "2    37     services   married          high.school       no     yes   no   \n",
       "3    40       admin.   married             basic.6y       no      no   no   \n",
       "4    56     services   married          high.school       no      no  yes   \n",
       "5    45     services   married             basic.9y  unknown      no   no   \n",
       "6    59       admin.   married  professional.course       no      no   no   \n",
       "7    41  blue-collar   married              unknown  unknown      no   no   \n",
       "8    24   technician    single  professional.course       no     yes   no   \n",
       "9    25     services    single          high.school       no     yes   no   \n",
       "10   41  blue-collar   married              unknown  unknown      no   no   \n",
       "11   25     services    single          high.school       no     yes   no   \n",
       "12   29  blue-collar    single          high.school       no      no  yes   \n",
       "13   57    housemaid  divorced             basic.4y       no     yes   no   \n",
       "14   35  blue-collar   married             basic.6y       no     yes   no   \n",
       "15   54      retired   married             basic.9y  unknown     yes  yes   \n",
       "16   35  blue-collar   married             basic.6y       no     yes   no   \n",
       "17   46  blue-collar   married             basic.6y  unknown     yes  yes   \n",
       "18   50  blue-collar   married             basic.9y       no     yes  yes   \n",
       "19   39   management    single             basic.9y  unknown      no   no   \n",
       "\n",
       "      contact month day_of_week  duration  campaign  pdays  previous  \\\n",
       "0   telephone   may         mon       261         1    999         0   \n",
       "1   telephone   may         mon       149         1    999         0   \n",
       "2   telephone   may         mon       226         1    999         0   \n",
       "3   telephone   may         mon       151         1    999         0   \n",
       "4   telephone   may         mon       307         1    999         0   \n",
       "5   telephone   may         mon       198         1    999         0   \n",
       "6   telephone   may         mon       139         1    999         0   \n",
       "7   telephone   may         mon       217         1    999         0   \n",
       "8   telephone   may         mon       380         1    999         0   \n",
       "9   telephone   may         mon        50         1    999         0   \n",
       "10  telephone   may         mon        55         1    999         0   \n",
       "11  telephone   may         mon       222         1    999         0   \n",
       "12  telephone   may         mon       137         1    999         0   \n",
       "13  telephone   may         mon       293         1    999         0   \n",
       "14  telephone   may         mon       146         1    999         0   \n",
       "15  telephone   may         mon       174         1    999         0   \n",
       "16  telephone   may         mon       312         1    999         0   \n",
       "17  telephone   may         mon       440         1    999         0   \n",
       "18  telephone   may         mon       353         1    999         0   \n",
       "19  telephone   may         mon       195         1    999         0   \n",
       "\n",
       "       poutcome  emp.var.rate  cons.price.idx  cons.conf.idx  euribor3m  \\\n",
       "0   nonexistent           1.1          93.994          -36.4      4.857   \n",
       "1   nonexistent           1.1          93.994          -36.4      4.857   \n",
       "2   nonexistent           1.1          93.994          -36.4      4.857   \n",
       "3   nonexistent           1.1          93.994          -36.4      4.857   \n",
       "4   nonexistent           1.1          93.994          -36.4      4.857   \n",
       "5   nonexistent           1.1          93.994          -36.4      4.857   \n",
       "6   nonexistent           1.1          93.994          -36.4      4.857   \n",
       "7   nonexistent           1.1          93.994          -36.4      4.857   \n",
       "8   nonexistent           1.1          93.994          -36.4      4.857   \n",
       "9   nonexistent           1.1          93.994          -36.4      4.857   \n",
       "10  nonexistent           1.1          93.994          -36.4      4.857   \n",
       "11  nonexistent           1.1          93.994          -36.4      4.857   \n",
       "12  nonexistent           1.1          93.994          -36.4      4.857   \n",
       "13  nonexistent           1.1          93.994          -36.4      4.857   \n",
       "14  nonexistent           1.1          93.994          -36.4      4.857   \n",
       "15  nonexistent           1.1          93.994          -36.4      4.857   \n",
       "16  nonexistent           1.1          93.994          -36.4      4.857   \n",
       "17  nonexistent           1.1          93.994          -36.4      4.857   \n",
       "18  nonexistent           1.1          93.994          -36.4      4.857   \n",
       "19  nonexistent           1.1          93.994          -36.4      4.857   \n",
       "\n",
       "    nr.employed   y  \n",
       "0        5191.0  no  \n",
       "1        5191.0  no  \n",
       "2        5191.0  no  \n",
       "3        5191.0  no  \n",
       "4        5191.0  no  \n",
       "5        5191.0  no  \n",
       "6        5191.0  no  \n",
       "7        5191.0  no  \n",
       "8        5191.0  no  \n",
       "9        5191.0  no  \n",
       "10       5191.0  no  \n",
       "11       5191.0  no  \n",
       "12       5191.0  no  \n",
       "13       5191.0  no  \n",
       "14       5191.0  no  \n",
       "15       5191.0  no  \n",
       "16       5191.0  no  \n",
       "17       5191.0  no  \n",
       "18       5191.0  no  \n",
       "19       5191.0  no  "
      ]
     },
     "execution_count": 2,
     "metadata": {},
     "output_type": "execute_result"
    }
   ],
   "source": [
    "# Download zip file containing dataset, and read into a DataFrame\n",
    "\n",
    "#import zipfile\n",
    "#with zipfile.ZipFile('bank-additional.zip', 'r') as f:\n",
    "#    f.extractall()\n",
    "\n",
    "\n",
    "df_raw = pd.read_csv('bank-additional-full.csv', sep=\";\") # read dataset into DataFrame\n",
    "\n",
    "df_raw_trial = df_raw.copy() # make a copy of the dataframe\n",
    "df_raw.head(20)"
   ]
  },
  {
   "cell_type": "markdown",
   "metadata": {},
   "source": [
    "## Feature Creation"
   ]
  },
  {
   "cell_type": "code",
   "execution_count": 3,
   "metadata": {},
   "outputs": [
    {
     "name": "stdout",
     "output_type": "stream",
     "text": [
      "There are 41188 rows in the dataset\n",
      "The total number of columns in dataset is 21; 20 features and 1 target label\n"
     ]
    }
   ],
   "source": [
    "# Data Shape; No of Features\n",
    "\n",
    "def dataset_shape(df):\n",
    "    print('There are %d rows in the dataset' % df.shape[0])\n",
    "    print('The total number of columns in dataset is %d; %d features and 1 target label' % \\\n",
    "          (df.shape[1], len(df.columns[:-1])))\n",
    "    \n",
    "dataset_shape(df_raw)"
   ]
  },
  {
   "cell_type": "code",
   "execution_count": 4,
   "metadata": {},
   "outputs": [],
   "source": [
    "# Rename the target feature\n",
    "\n",
    "df_raw.rename(columns={'y':'Subscription_Status'}, inplace=True)"
   ]
  },
  {
   "cell_type": "code",
   "execution_count": 5,
   "metadata": {},
   "outputs": [
    {
     "name": "stdout",
     "output_type": "stream",
     "text": [
      "  Subscription_Status  Count Percentage\n",
      "0                  no  36548     88.73%\n",
      "1                 yes   4640     11.27%\n"
     ]
    },
    {
     "data": {
      "image/png": "[encoded data removed]",
      "text/plain": [
       "<Figure size 216x360 with 1 Axes>"
      ]
     },
     "metadata": {
      "needs_background": "light"
     },
     "output_type": "display_data"
    }
   ],
   "source": [
    "# Original Target Label Distribution: Table and Plot\n",
    "\n",
    "df_targetLabel = df_raw['Subscription_Status'].value_counts().to_frame().reset_index()\n",
    "df_targetLabel.rename(columns={'index':'Subscription_Status', 'Subscription_Status':'Count'}, inplace=True)\n",
    "df_targetLabel['Percentage'] = ((df_targetLabel['Count']/df_targetLabel['Count'].sum())*100).map('{:.2f}%'.format)\n",
    "\n",
    "fig = plt.figure(figsize=(3,5))\n",
    "ax = sns.countplot(x='Subscription_Status', data=df_raw)\n",
    "ax.set_title('Count Plot of Target Label')\n",
    "ax.set_ylabel('Count', fontsize=12)\n",
    "ax.set_xlabel('Subscription_Status', fontsize=12)\n",
    "print(df_targetLabel)"
   ]
  },
  {
   "cell_type": "code",
   "execution_count": 5,
   "metadata": {},
   "outputs": [
    {
     "name": "stdout",
     "output_type": "stream",
     "text": [
      "The total number of columns in dataset is now 13\n",
      "A total of 8 columns have been dropped!\n"
     ]
    }
   ],
   "source": [
    "# Drop irrelevent Features: Those that refer to the involvement of the client with the Marketing contact-centre\n",
    "\n",
    "Init_length = len(df_raw.columns) # initial column composition of dataset \n",
    "\n",
    "To_drop = ['contact', 'month', 'day_of_week', 'duration', 'campaign', 'pdays',\n",
    "           'previous', 'poutcome']\n",
    "\n",
    "df_raw.drop(To_drop, axis=1, inplace=True)\n",
    "\n",
    "print('The total number of columns in dataset is now %d' % (Init_length-len(To_drop)))\n",
    "print('A total of %d columns have been dropped!' % len(To_drop))"
   ]
  },
  {
   "cell_type": "code",
   "execution_count": 7,
   "metadata": {
    "scrolled": true
   },
   "outputs": [
    {
     "name": "stdout",
     "output_type": "stream",
     "text": [
      "age \n",
      " False    41188\n",
      "Name: age, dtype: int64 \n",
      "\n",
      "job \n",
      " False    41188\n",
      "Name: job, dtype: int64 \n",
      "\n",
      "marital \n",
      " False    41188\n",
      "Name: marital, dtype: int64 \n",
      "\n",
      "education \n",
      " False    41188\n",
      "Name: education, dtype: int64 \n",
      "\n",
      "default \n",
      " False    41188\n",
      "Name: default, dtype: int64 \n",
      "\n",
      "housing \n",
      " False    41188\n",
      "Name: housing, dtype: int64 \n",
      "\n",
      "loan \n",
      " False    41188\n",
      "Name: loan, dtype: int64 \n",
      "\n",
      "emp.var.rate \n",
      " False    41188\n",
      "Name: emp.var.rate, dtype: int64 \n",
      "\n",
      "cons.price.idx \n",
      " False    41188\n",
      "Name: cons.price.idx, dtype: int64 \n",
      "\n",
      "cons.conf.idx \n",
      " False    41188\n",
      "Name: cons.conf.idx, dtype: int64 \n",
      "\n",
      "euribor3m \n",
      " False    41188\n",
      "Name: euribor3m, dtype: int64 \n",
      "\n",
      "nr.employed \n",
      " False    41188\n",
      "Name: nr.employed, dtype: int64 \n",
      "\n",
      "Subscription_Status \n",
      " False    41188\n",
      "Name: Subscription_Status, dtype: int64 \n",
      "\n"
     ]
    }
   ],
   "source": [
    "# Check entire dataset for null values\n",
    "\n",
    "for col in df_raw.columns:\n",
    "    print(col, '\\n', df_raw[col].isnull().value_counts(), '\\n')"
   ]
  },
  {
   "cell_type": "markdown",
   "metadata": {},
   "source": [
    "### Explore Categorical Features"
   ]
  },
  {
   "cell_type": "code",
   "execution_count": 6,
   "metadata": {},
   "outputs": [
    {
     "name": "stdout",
     "output_type": "stream",
     "text": [
      "job: 330 \n",
      "\n",
      "marital: 80 \n",
      "\n",
      "education: 1731 \n",
      "\n",
      "default: 8597 \n",
      "\n",
      "housing: 990 \n",
      "\n",
      "loan: 990 \n",
      "\n"
     ]
    }
   ],
   "source": [
    "# Explore 'unknown values': Display the number of 'unknown' values in each categorical features \n",
    "\n",
    "columns_categorical = ['job', 'marital', 'education', 'default', 'housing', 'loan'] # Categorical Features\n",
    "\n",
    "for col in columns_categorical:\n",
    "    unknown_count = df_raw[df_raw[col]=='unknown'].shape[0]\n",
    "    print(col + ':', unknown_count, '\\n')"
   ]
  },
  {
   "cell_type": "code",
   "execution_count": 7,
   "metadata": {},
   "outputs": [
    {
     "data": {
      "text/plain": [
       "no         32588\n",
       "unknown     8597\n",
       "yes            3\n",
       "Name: default, dtype: int64"
      ]
     },
     "execution_count": 7,
     "metadata": {},
     "output_type": "execute_result"
    }
   ],
   "source": [
    "df_raw[df_raw['default']=='unknown'].shape[0]\n",
    "df_raw['default'].value_counts()"
   ]
  },
  {
   "cell_type": "code",
   "execution_count": 10,
   "metadata": {
    "scrolled": true
   },
   "outputs": [
    {
     "data": {
      "image/png": "[encoded data removed]",
      "text/plain": [
       "<Figure size 1800x936 with 6 Axes>"
      ]
     },
     "metadata": {
      "needs_background": "light"
     },
     "output_type": "display_data"
    }
   ],
   "source": [
    "# Make subplots of Categorical Features against the target label('Subscription_Status') in order to assess information content\n",
    "\n",
    "fig = plt.figure(figsize=(25,13))\n",
    "\n",
    "for n, feature in zip(range(1,7), columns_categorical):\n",
    "    axn = fig.add_subplot(2,3,n)\n",
    "    sns.countplot(x='Subscription_Status', hue=feature, data=df_raw)\n",
    "    axn.set_title('Feature: ' + feature, fontsize=17)\n",
    "    axn.set_ylabel('Feature Count', fontsize=13)\n",
    "    axn.set_xlabel('Subscription_Status', fontsize=13)\n",
    "        "
   ]
  },
  {
   "cell_type": "code",
   "execution_count": 7,
   "metadata": {},
   "outputs": [
    {
     "name": "stdout",
     "output_type": "stream",
     "text": [
      "There are 30488 rows in the dataset\n",
      "The total number of columns in dataset is 12; 11 features and 1 target label\n"
     ]
    }
   ],
   "source": [
    "# Drop all rows having 'unknown' values \n",
    "for col in columns_categorical:\n",
    "    df_raw.drop(df_raw[df_raw[col]=='unknown'].index, axis=0, inplace=True)\n",
    "    \n",
    "# The 'default' feature is subsequently dropped as the plot reveals low information content with more than 20% 'unknown'\n",
    "df_raw.drop('default', axis=1, inplace=True)\n",
    "\n",
    "dataset_shape(df_raw)"
   ]
  },
  {
   "cell_type": "markdown",
   "metadata": {},
   "source": [
    "### Explore Numeric Features"
   ]
  },
  {
   "cell_type": "code",
   "execution_count": 12,
   "metadata": {
    "scrolled": true
   },
   "outputs": [
    {
     "data": {
      "image/png": "[encoded data removed]",
      "text/plain": [
       "<Figure size 1080x864 with 6 Axes>"
      ]
     },
     "metadata": {
      "needs_background": "light"
     },
     "output_type": "display_data"
    }
   ],
   "source": [
    "# Make boxplots of Numeric features against target label\n",
    "\n",
    "columns_numerical = ['age', 'emp.var.rate', 'cons.price.idx', 'cons.conf.idx', 'euribor3m', 'nr.employed'] # Numerical Features\n",
    "fig = plt.figure(figsize=(15,12))\n",
    "\n",
    "\n",
    "for n, feature in zip(range(1,7), columns_numerical):\n",
    "    sns.set_style(\"whitegrid\")\n",
    "    axn = fig.add_subplot(2,3,n)\n",
    "    axn = sns.boxplot(x='Subscription_Status', y=feature, data=df_raw)\n",
    "    axn.set_title('Feature: ' + feature, size=14)\n",
    "    axn.set_ylabel(feature, size=12)\n",
    "    axn.set_xlabel('Subscription_Status', size=12)\n",
    "    #ax.set(ylabel = feature, xlabel = label)\n"
   ]
  },
  {
   "cell_type": "code",
   "execution_count": 8,
   "metadata": {},
   "outputs": [
    {
     "name": "stdout",
     "output_type": "stream",
     "text": [
      "There are 30488 rows in the dataset\n",
      "The total number of columns in dataset is 12; 11 features and 1 target label\n"
     ]
    }
   ],
   "source": [
    "# Dimensions of cleaned and feature-engineered dataset \n",
    "\n",
    "dataset_shape(df_raw)"
   ]
  },
  {
   "cell_type": "code",
   "execution_count": 9,
   "metadata": {},
   "outputs": [
    {
     "name": "stdout",
     "output_type": "stream",
     "text": [
      "age\n",
      "Yes_Count: 72\n",
      "No_Count: 74 \n",
      "\n",
      "emp.var.rate\n",
      "Yes_Count: 10\n",
      "No_Count: 10 \n",
      "\n",
      "cons.price.idx\n",
      "Yes_Count: 26\n",
      "No_Count: 26 \n",
      "\n",
      "cons.conf.idx\n",
      "Yes_Count: 26\n",
      "No_Count: 26 \n",
      "\n",
      "euribor3m\n",
      "Yes_Count: 287\n",
      "No_Count: 310 \n",
      "\n",
      "nr.employed\n",
      "Yes_Count: 11\n",
      "No_Count: 11 \n",
      "\n"
     ]
    }
   ],
   "source": [
    "# Further explore numeric variables to assess the need for discretization\n",
    "\n",
    "columns_numerical = ['age', 'emp.var.rate', 'cons.price.idx', 'cons.conf.idx', 'euribor3m', 'nr.employed']\n",
    "\n",
    "for col in columns_numerical:\n",
    "    df_Yes = df_raw[df_raw['Subscription_Status']=='yes'][col].reset_index(drop=True)\n",
    "    df_No = df_raw[df_raw['Subscription_Status']=='no'][col].reset_index(drop=True)\n",
    "    \n",
    "    print(col)\n",
    "    print('Yes_Count: %d' % len(df_Yes.unique()))\n",
    "    print('No_Count: %d' % len(df_No.unique()), '\\n')\n"
   ]
  },
  {
   "cell_type": "code",
   "execution_count": null,
   "metadata": {
    "scrolled": true
   },
   "outputs": [],
   "source": [
    "count, bin_edges = np.histogram(df_raw['age'], 10)\n",
    "df_raw['age'].plot(kind='hist', bins=10, xticks=bin_edges)\n",
    "plt.title('Histogram Plot of \\'age\\'', fontsize=12)\n",
    "\n",
    "# The 'age' feature has a positive skew"
   ]
  },
  {
   "cell_type": "code",
   "execution_count": null,
   "metadata": {
    "scrolled": true
   },
   "outputs": [],
   "source": [
    "# Discretize the 'age' feature into 13 bins. Create new feature 'age_binned'\n",
    "\n",
    "cut_bins = [16, 26, 31, 36, 41, 46, 51, 56, 61, 66, 71, 76, 81, 95]\n",
    "label = ['class %d' % n for n in range(1,14)]\n",
    "\n",
    "df_raw_binned = df_raw.copy()\n",
    "    \n",
    "df_raw_binned['age_binned'] = pd.cut(df_raw_binned['age'], bins=cut_bins, labels=label)\n",
    "\n",
    "# Drop the redundant 'age' feature\n",
    "df_raw_binned.drop('age', axis=1, inplace=True)\n",
    "\n",
    "# Re=order the columns\n",
    "columns_reorder = [df_raw_binned.columns[-1]] + list(df_raw_binned.columns[0:11])\n",
    "\n",
    "df_raw_binned = df_raw_binned[columns_reorder]\n",
    "df_raw_binned"
   ]
  },
  {
   "cell_type": "code",
   "execution_count": null,
   "metadata": {},
   "outputs": [],
   "source": [
    "#cut_bins = [16, 26, 31, 36, 41, 46, 51, 56, 61, 66, 71, 76, 81, 95]\n",
    "cut_bins = [16, 21, 26, 31, 36, 41, 46, 51, 56, 61, 66, 71, 76, 81, 86, 91, 95]\n",
    "print(pd.cut(df_Age_Yes, bins=cut_bins).value_counts(), '\\n')\n",
    "print(pd.cut(df_Age_No, bins=cut_bins).value_counts())"
   ]
  },
  {
   "cell_type": "markdown",
   "metadata": {},
   "source": [
    "### Load Pandas DataFrame 'df_raw' as spark DataFrame"
   ]
  },
  {
   "cell_type": "code",
   "execution_count": 10,
   "metadata": {},
   "outputs": [],
   "source": [
    "from pyspark import SparkContext, SparkConf\n",
    "from pyspark.sql import SparkSession\n",
    "        \n",
    "sc = SparkContext.getOrCreate(SparkConf().setMaster(\"local[*]\"))\n",
    "\n",
    "spark = SparkSession.builder.getOrCreate()"
   ]
  },
  {
   "cell_type": "code",
   "execution_count": 11,
   "metadata": {
    "scrolled": true
   },
   "outputs": [
    {
     "name": "stdout",
     "output_type": "stream",
     "text": [
      "root\n",
      " |-- age: integer (nullable = true)\n",
      " |-- job: string (nullable = true)\n",
      " |-- marital: string (nullable = true)\n",
      " |-- education: string (nullable = true)\n",
      " |-- housing: string (nullable = true)\n",
      " |-- loan: string (nullable = true)\n",
      " |-- emp.var.rate: float (nullable = true)\n",
      " |-- cons.price.idx: float (nullable = true)\n",
      " |-- cons.conf.idx: float (nullable = true)\n",
      " |-- euribor3m: float (nullable = true)\n",
      " |-- nr.employed: float (nullable = true)\n",
      " |-- Subscription_Status: string (nullable = true)\n",
      "\n"
     ]
    }
   ],
   "source": [
    "# Load pandas DataFrame 'df_raw' as spark DataFrame object. Define explicit schema to facilitate\n",
    "\n",
    "m = list(df_raw.columns) # list of pandas dataframe columns\n",
    "\n",
    "from pyspark.sql.types import * \n",
    "\n",
    "schema = StructType([\n",
    "    StructField(m[0],IntegerType(), True),\n",
    "    StructField(m[1],StringType(), True),\n",
    "    StructField(m[2],StringType(), True),\n",
    "    StructField(m[3],StringType(), True),\n",
    "    StructField(m[4],StringType(), True),\n",
    "    StructField(m[5],StringType(), True),\n",
    "    StructField(m[6],FloatType(), True),\n",
    "    StructField(m[7],FloatType(), True),\n",
    "    StructField(m[8],FloatType(), True),\n",
    "    StructField(m[9],FloatType(), True),\n",
    "    StructField(m[10],FloatType(), True),\n",
    "    StructField(m[11],StringType(), True)])\n",
    "\n",
    "\n",
    "Market_pred = spark.createDataFrame(df_raw, schema)\n",
    "Market_pred.printSchema()"
   ]
  },
  {
   "cell_type": "code",
   "execution_count": 13,
   "metadata": {},
   "outputs": [
    {
     "data": {
      "text/plain": [
       "['age',\n",
       " 'job',\n",
       " 'marital',\n",
       " 'education',\n",
       " 'housing',\n",
       " 'loan',\n",
       " 'emp_var_rate',\n",
       " 'cons_price_idx',\n",
       " 'cons_conf_idx',\n",
       " 'euribor3m',\n",
       " 'nr_employed',\n",
       " 'Subscription_Status']"
      ]
     },
     "execution_count": 13,
     "metadata": {},
     "output_type": "execute_result"
    }
   ],
   "source": [
    "# Rename columns\n",
    "\n",
    "column_old = ['emp.var.rate', 'cons.price.idx', 'cons.conf.idx', 'euribor3m', 'nr.employed']\n",
    "column_new = ['emp_var_rate', 'cons_price_idx', 'cons_conf_idx', 'euribor3m', 'nr_employed']\n",
    "\n",
    "for col_old, col_new in zip(column_old, column_new):\n",
    "    Market_pred = Market_pred.withColumnRenamed(col_old, col_new)\n",
    "            \n",
    "Market_pred.columns"
   ]
  },
  {
   "cell_type": "code",
   "execution_count": 14,
   "metadata": {},
   "outputs": [
    {
     "name": "stdout",
     "output_type": "stream",
     "text": [
      "Number of rows: 30488\n",
      "Number of columns: 12\n"
     ]
    }
   ],
   "source": [
    "# Confirm dimension of spark DataFrame (Market_pred)\n",
    "\n",
    "print('Number of rows: %d' % Market_pred.count())\n",
    "print('Number of columns: %d' % len(Market_pred.columns))\n"
   ]
  },
  {
   "cell_type": "markdown",
   "metadata": {},
   "source": [
    "## Model Development"
   ]
  },
  {
   "cell_type": "code",
   "execution_count": 15,
   "metadata": {
    "scrolled": true
   },
   "outputs": [
    {
     "data": {
      "text/plain": [
       "['age',\n",
       " 'job',\n",
       " 'marital',\n",
       " 'education',\n",
       " 'housing',\n",
       " 'loan',\n",
       " 'emp_var_rate',\n",
       " 'cons_price_idx',\n",
       " 'cons_conf_idx',\n",
       " 'euribor3m',\n",
       " 'nr_employed',\n",
       " 'Subscription_Status',\n",
       " 'loan_index',\n",
       " 'housing_index',\n",
       " 'label',\n",
       " 'marital_index',\n",
       " 'education_index',\n",
       " 'job_index']"
      ]
     },
     "execution_count": 15,
     "metadata": {},
     "output_type": "execute_result"
    }
   ],
   "source": [
    "# Create Indexed equivalent of categorical features and target label\n",
    "from pyspark.ml.feature import StringIndexer\n",
    "\n",
    "columns_categorical = ['job', 'marital', 'education', 'housing', 'loan', 'Subscription_Status']\n",
    "columns_categorical_indexed = ['job_index', 'marital_index', 'education_index', 'housing_index', 'loan_index', 'label']\n",
    "\n",
    "indexer = StringIndexer(inputCols= columns_categorical, outputCols=columns_categorical_indexed)\n",
    "Market_indexed = indexer.fit(Market_pred).transform(Market_pred)\n",
    "    \n",
    "Market_indexed.columns"
   ]
  },
  {
   "cell_type": "code",
   "execution_count": 16,
   "metadata": {
    "scrolled": true
   },
   "outputs": [
    {
     "data": {
      "text/plain": [
       "['age',\n",
       " 'job',\n",
       " 'marital',\n",
       " 'education',\n",
       " 'housing',\n",
       " 'loan',\n",
       " 'emp_var_rate',\n",
       " 'cons_price_idx',\n",
       " 'cons_conf_idx',\n",
       " 'euribor3m',\n",
       " 'nr_employed',\n",
       " 'Subscription_Status',\n",
       " 'loan_index',\n",
       " 'housing_index',\n",
       " 'label',\n",
       " 'marital_index',\n",
       " 'education_index',\n",
       " 'job_index',\n",
       " 'housing_encode',\n",
       " 'marital_encode',\n",
       " 'education_encode',\n",
       " 'loan_encode',\n",
       " 'job_encode']"
      ]
     },
     "execution_count": 16,
     "metadata": {},
     "output_type": "execute_result"
    }
   ],
   "source": [
    "# One-Hot encode categorical features and target label\n",
    "from pyspark.ml.feature import OneHotEncoder\n",
    "\n",
    "columns_categorical_indexed = ['job_index', 'marital_index', 'education_index', 'housing_index', 'loan_index']\n",
    "columns_encoded = ['job_encode', 'marital_encode', 'education_encode', 'housing_encode', 'loan_encode']\n",
    "\n",
    "encoder = OneHotEncoder(inputCols=columns_categorical_indexed, outputCols=columns_encoded)\n",
    "Market_encoded = encoder.fit(Market_indexed).transform(Market_indexed)\n",
    "    \n",
    "Market_encoded.columns    "
   ]
  },
  {
   "cell_type": "code",
   "execution_count": 17,
   "metadata": {
    "scrolled": true
   },
   "outputs": [
    {
     "data": {
      "text/plain": [
       "['age',\n",
       " 'job',\n",
       " 'marital',\n",
       " 'education',\n",
       " 'housing',\n",
       " 'loan',\n",
       " 'emp_var_rate',\n",
       " 'cons_price_idx',\n",
       " 'cons_conf_idx',\n",
       " 'euribor3m',\n",
       " 'nr_employed',\n",
       " 'Subscription_Status',\n",
       " 'loan_index',\n",
       " 'housing_index',\n",
       " 'label',\n",
       " 'marital_index',\n",
       " 'education_index',\n",
       " 'job_index',\n",
       " 'housing_encode',\n",
       " 'marital_encode',\n",
       " 'education_encode',\n",
       " 'loan_encode',\n",
       " 'job_encode',\n",
       " 'features']"
      ]
     },
     "execution_count": 17,
     "metadata": {},
     "output_type": "execute_result"
    }
   ],
   "source": [
    "# Vector transformation of feature set\n",
    "from pyspark.ml.linalg import Vectors\n",
    "from pyspark.ml.feature import VectorAssembler\n",
    "\n",
    "columns_vectors = ['age', 'job_encode', 'marital_encode', 'education_encode', 'housing_encode', 'loan_encode',\n",
    "           'emp_var_rate', 'cons_price_idx', 'cons_conf_idx', 'euribor3m', 'nr_employed']\n",
    "\n",
    "assembler = VectorAssembler(inputCols=columns_vectors, outputCol='features')\n",
    "Market_encoded_vector = assembler.transform(Market_encoded)\n",
    "\n",
    "Market_encoded_vector.columns\n"
   ]
  },
  {
   "cell_type": "code",
   "execution_count": 18,
   "metadata": {
    "scrolled": true
   },
   "outputs": [
    {
     "data": {
      "text/plain": [
       "['age',\n",
       " 'job',\n",
       " 'marital',\n",
       " 'education',\n",
       " 'housing',\n",
       " 'loan',\n",
       " 'emp_var_rate',\n",
       " 'cons_price_idx',\n",
       " 'cons_conf_idx',\n",
       " 'euribor3m',\n",
       " 'nr_employed',\n",
       " 'Subscription_Status',\n",
       " 'loan_index',\n",
       " 'housing_index',\n",
       " 'label',\n",
       " 'marital_index',\n",
       " 'education_index',\n",
       " 'job_index',\n",
       " 'housing_encode',\n",
       " 'marital_encode',\n",
       " 'education_encode',\n",
       " 'loan_encode',\n",
       " 'job_encode',\n",
       " 'features',\n",
       " 'features_norm']"
      ]
     },
     "execution_count": 18,
     "metadata": {},
     "output_type": "execute_result"
    }
   ],
   "source": [
    "# Normalize feature set\n",
    "\n",
    "#from pyspark.ml.feature import Normalizer\n",
    "from pyspark.ml.feature import StandardScaler\n",
    "\n",
    "Norm = StandardScaler(inputCol='features',outputCol='features_norm')\n",
    "\n",
    "Market_encoded_normalized = Norm.fit(Market_encoded_vector).transform(Market_encoded_vector)\n",
    "Market_encoded_normalized.columns"
   ]
  },
  {
   "cell_type": "code",
   "execution_count": null,
   "metadata": {},
   "outputs": [],
   "source": [
    "# Train-Test Split\n",
    "\n",
    "split = Market_pred.randomSplit([0.8, 0.2])\n",
    "Market_train = split[0]\n",
    "Market_test = split[1]   "
   ]
  },
  {
   "cell_type": "markdown",
   "metadata": {},
   "source": [
    "#### Logistic Regression"
   ]
  },
  {
   "cell_type": "code",
   "execution_count": 23,
   "metadata": {},
   "outputs": [
    {
     "data": {
      "text/plain": [
       "0.8740338760072357"
      ]
     },
     "execution_count": 23,
     "metadata": {},
     "output_type": "execute_result"
    }
   ],
   "source": [
    "# Train Model\n",
    "from pyspark.ml.classification import LogisticRegression\n",
    "from pyspark.ml import Pipeline\n",
    "\n",
    "lr = LogisticRegression(maxIter = 10, regParam = 0.01, elasticNetParam = 0.8)\n",
    "pipeline_lr = Pipeline(stages=[indexer, encoder, assembler, Norm, lr])\n",
    "\n",
    "model_lr = pipeline_lr.fit(Market_train)\n",
    "prediction_lr = model_lr.transform(Market_test)\n",
    "\n",
    "#model = lr.fit(Market_encoded_normalized)\n",
    "#prediction = model.transform(Market_encoded_normalized)\n",
    "\n",
    "# Evaluate Model\n",
    "from pyspark.ml.evaluation import MulticlassClassificationEvaluator \n",
    "\n",
    "lr_evaluator = MulticlassClassificationEvaluator().setMetricName('accuracy').setPredictionCol(\"prediction\")\n",
    "lr_evaluator.evaluate(prediction_lr)"
   ]
  },
  {
   "cell_type": "markdown",
   "metadata": {},
   "source": [
    "#### Support Vector Machine"
   ]
  },
  {
   "cell_type": "code",
   "execution_count": 24,
   "metadata": {},
   "outputs": [
    {
     "data": {
      "text/plain": [
       "0.6713030759292509"
      ]
     },
     "execution_count": 24,
     "metadata": {},
     "output_type": "execute_result"
    }
   ],
   "source": [
    "# Train Model\n",
    "from pyspark.ml.classification import LinearSVC\n",
    "\n",
    "svm = LinearSVC(maxIter = 10, regParam = 0.01)\n",
    "pipeline_svm = Pipeline(stages=[indexer, encoder, assembler, Norm, svm])\n",
    "\n",
    "model_svm = pipeline_svm.fit(Market_train)\n",
    "prediction_svm = model_svm.transform(Market_test)\n",
    "\n",
    "#model = lsvc.fit(Market_encoded_normalized)\n",
    "#prediction = model.transform(Market_encoded_normalized)\n",
    "\n",
    "# Evaluate Model\n",
    "from pyspark.ml.evaluation import BinaryClassificationEvaluator \n",
    "\n",
    "svm_evaluator = BinaryClassificationEvaluator(rawPredictionCol='rawPrediction')\n",
    "svm_evaluator.evaluate(prediction_svm)"
   ]
  },
  {
   "cell_type": "markdown",
   "metadata": {},
   "source": [
    "#### Random Forest"
   ]
  },
  {
   "cell_type": "code",
   "execution_count": 25,
   "metadata": {},
   "outputs": [
    {
     "data": {
      "text/plain": [
       "0.8697582634435126"
      ]
     },
     "execution_count": 25,
     "metadata": {},
     "output_type": "execute_result"
    }
   ],
   "source": [
    "# Train Model\n",
    "from pyspark.ml.classification import RandomForestClassifier\n",
    "\n",
    "rndf = RandomForestClassifier(numTrees = 5, maxDepth = 25, seed = 5)\n",
    "pipeline_rndf = Pipeline(stages=[indexer, encoder, assembler, rndf])\n",
    "\n",
    "model_rndf = pipeline_rndf.fit(Market_train)\n",
    "prediction_rndf = model_rndf.transform(Market_test)\n",
    "\n",
    "#model_rndf = rndf.fit(Market_encoded_vector)\n",
    "#prediction = model_rndf.transform(Market_encoded_vector)\n",
    "\n",
    "# Evaluator Model\n",
    "from pyspark.ml.evaluation import MulticlassClassificationEvaluator \n",
    "\n",
    "rndf_evaluator = MulticlassClassificationEvaluator().setMetricName('accuracy')\n",
    "rndf_evaluator.evaluate(prediction_rndf)"
   ]
  },
  {
   "cell_type": "markdown",
   "metadata": {},
   "source": [
    "#### Gradient-Boosted Trees"
   ]
  },
  {
   "cell_type": "code",
   "execution_count": 26,
   "metadata": {},
   "outputs": [
    {
     "data": {
      "text/plain": [
       "0.8778161486597599"
      ]
     },
     "execution_count": 26,
     "metadata": {},
     "output_type": "execute_result"
    }
   ],
   "source": [
    "# Train Model\n",
    "from pyspark.ml.classification import GBTClassifier\n",
    "\n",
    "GBT = GBTClassifier(maxIter = 10, maxDepth = 2, seed =2)\n",
    "pipeline_GBT = Pipeline(stages=[indexer, encoder, assembler, GBT])\n",
    "\n",
    "model_GBT = pipeline_GBT.fit(Market_train)\n",
    "prediction_GBT = model_GBT.transform(Market_test)\n",
    "\n",
    "#model_GBT = GBT.fit(Market_encoded_vector)\n",
    "#prediction  = model_GBT.transform(Market_encoded_vector)\n",
    "\n",
    "# Evaluate Model\n",
    "from pyspark.ml.evaluation import MulticlassClassificationEvaluator \n",
    "\n",
    "GBT_evaluator = MulticlassClassificationEvaluator().setMetricName('accuracy')\n",
    "GBT_evaluator.evaluate(prediction_GBT)"
   ]
  },
  {
   "cell_type": "markdown",
   "metadata": {},
   "source": [
    "## Model Tuning"
   ]
  },
  {
   "cell_type": "markdown",
   "metadata": {},
   "source": [
    "### Gradient-Boosted Trees"
   ]
  },
  {
   "cell_type": "code",
   "execution_count": null,
   "metadata": {},
   "outputs": [],
   "source": [
    "from pyspark.ml.tuning import CrossValidator, ParamGridBuilder\n",
    "\n",
    "# Set up the grid\n",
    "Market_grid = ParamGridBuilder() \\\n",
    "                .addGrid(GBT.maxDepth, [15, 20, 25]) \\\n",
    "                .addGrid(GBT.maxBins, [8, 16, 32]) \\\n",
    "                .addGrid(GBT.seed, [2, 5, 10]) \\\n",
    "                .build()\n",
    "            \n",
    "# Create Crossvalidation object\n",
    "Market_cross_val = CrossValidator(\n",
    "                estimator = pipeline_GBT,\n",
    "                estimatorParamMaps = Market_grid,\n",
    "                evaluator = MulticlassClassificationEvaluator(),\n",
    "                numFolds = 4)\n",
    "\n",
    "# Train and Evaluate CrossValidator\n",
    "Model_cross_val = Market_cross_val.fit(Market_train)\n",
    "prediction_cross_val = Model_cross_val.transform(Market_test)\n",
    "\n",
    "GBT_evaluator.evaluate(prediction_cross_val)"
   ]
  },
  {
   "cell_type": "markdown",
   "metadata": {},
   "source": [
    "### Random Forest"
   ]
  },
  {
   "cell_type": "code",
   "execution_count": 27,
   "metadata": {},
   "outputs": [
    {
     "data": {
      "text/plain": [
       "0.8801184015786877"
      ]
     },
     "execution_count": 27,
     "metadata": {},
     "output_type": "execute_result"
    }
   ],
   "source": [
    "from pyspark.ml.tuning import CrossValidator, ParamGridBuilder\n",
    "\n",
    "# Set up the grid\n",
    "Market_grid = ParamGridBuilder() \\\n",
    "                .addGrid(rndf.maxDepth, [10, 20, 25]) \\\n",
    "                .addGrid(rndf.numTrees, [8, 16, 32]) \\\n",
    "                .addGrid(GBT.seed, [2, 5, 10]) \\\n",
    "                .build()\n",
    "            \n",
    "# Create Crossvalidation object\n",
    "Market_cross_val = CrossValidator(\n",
    "                estimator = pipeline_rndf,\n",
    "                estimatorParamMaps = Market_grid,\n",
    "                evaluator = MulticlassClassificationEvaluator(),\n",
    "                numFolds = 4)\n",
    "\n",
    "# Train and Evaluate CrossValidator\n",
    "Model_cross_val = Market_cross_val.fit(Market_train)\n",
    "prediction_cross_val = Model_cross_val.transform(Market_test)\n",
    "\n",
    "rndf_evaluator.evaluate(prediction_cross_val)"
   ]
  },
  {
   "cell_type": "code",
   "execution_count": 12,
   "metadata": {},
   "outputs": [],
   "source": [
    "# Train-Test Split\n",
    "split = Market_pred.randomSplit([0.8, 0.2])\n",
    "Market_train = split[0]\n",
    "Market_test = split[1]   "
   ]
  },
  {
   "cell_type": "code",
   "execution_count": null,
   "metadata": {},
   "outputs": [],
   "source": [
    "# Inspect class distribution between splits\n",
    "\n",
    "Market_pred.createOrReplaceTempView('df')\n",
    "Market_train.createOrReplaceTempView('df_train')\n",
    "Market_test.createOrReplaceTempView('df_test')\n",
    "\n",
    "dff = spark.sql('select Subscription_Status, count(Subscription_Status) as count from df group by Subscription_Status')\n",
    "\n",
    "#spark.sql('select Distribution from df_Market').show()"
   ]
  },
  {
   "cell_type": "markdown",
   "metadata": {},
   "source": [
    "### Deep Learning Implementation"
   ]
  },
  {
   "cell_type": "code",
   "execution_count": null,
   "metadata": {},
   "outputs": [],
   "source": [
    "!pip uninstall tensorflow"
   ]
  },
  {
   "cell_type": "code",
   "execution_count": 28,
   "metadata": {},
   "outputs": [
    {
     "ename": "ModuleNotFoundError",
     "evalue": "No module named 'tensorflow'",
     "output_type": "error",
     "traceback": [
      "\u001b[1;31m---------------------------------------------------------------------------\u001b[0m",
      "\u001b[1;31mModuleNotFoundError\u001b[0m                       Traceback (most recent call last)",
      "\u001b[1;32m<ipython-input-28-64156d691fe5>\u001b[0m in \u001b[0;36m<module>\u001b[1;34m\u001b[0m\n\u001b[1;32m----> 1\u001b[1;33m \u001b[1;32mimport\u001b[0m \u001b[0mtensorflow\u001b[0m \u001b[1;32mas\u001b[0m \u001b[0mtf\u001b[0m\u001b[1;33m\u001b[0m\u001b[1;33m\u001b[0m\u001b[0m\n\u001b[0m",
      "\u001b[1;31mModuleNotFoundError\u001b[0m: No module named 'tensorflow'"
     ]
    }
   ],
   "source": [
    "import tensorflow as tf"
   ]
  },
  {
   "cell_type": "code",
   "execution_count": null,
   "metadata": {},
   "outputs": [],
   "source": []
  },
  {
   "cell_type": "markdown",
   "metadata": {},
   "source": [
    "### Test Code\n",
    "df3 = Market_indexed.selectExpr(\"cast(age as string) age\")\n",
    "df3.printSchema()"
   ]
  },
  {
   "cell_type": "code",
   "execution_count": null,
   "metadata": {},
   "outputs": [],
   "source": [
    "Market_indexed.columns[0:11]"
   ]
  },
  {
   "cell_type": "code",
   "execution_count": null,
   "metadata": {},
   "outputs": [],
   "source": [
    "df1 = pd.DataFrame([[1,2,3], [4,5,6]], columns = ['First', 'Second', 'Third'])\n",
    "df1.describe()"
   ]
  },
  {
   "cell_type": "code",
   "execution_count": null,
   "metadata": {},
   "outputs": [],
   "source": []
  },
  {
   "cell_type": "code",
   "execution_count": null,
   "metadata": {},
   "outputs": [],
   "source": []
  },
  {
   "cell_type": "code",
   "execution_count": null,
   "metadata": {},
   "outputs": [],
   "source": []
  },
  {
   "cell_type": "code",
   "execution_count": null,
   "metadata": {},
   "outputs": [],
   "source": []
  },
  {
   "cell_type": "code",
   "execution_count": null,
   "metadata": {},
   "outputs": [],
   "source": []
  },
  {
   "cell_type": "code",
   "execution_count": null,
   "metadata": {},
   "outputs": [],
   "source": []
  },
  {
   "cell_type": "code",
   "execution_count": null,
   "metadata": {},
   "outputs": [],
   "source": []
  },
  {
   "cell_type": "code",
   "execution_count": 15,
   "metadata": {},
   "outputs": [
    {
     "name": "stdout",
     "output_type": "stream",
     "text": [
      "+-----+\n",
      "|hello|\n",
      "+-----+\n",
      "|spark|\n",
      "+-----+\n",
      "\n"
     ]
    }
   ],
   "source": [
    "import pyspark\n",
    "\n",
    "from pyspark.sql import SparkSession\n",
    "\n",
    "spark = SparkSession.builder.getOrCreate()\n",
    "\n",
    "df = spark.sql(\"select 'spark' as hello \")\n",
    "\n",
    "df.show()"
   ]
  },
  {
   "cell_type": "code",
   "execution_count": 152,
   "metadata": {},
   "outputs": [],
   "source": [
    "from pyspark import SparkContext, SparkConf\n",
    "from pyspark.sql import SparkSession\n",
    "        \n",
    "sc = SparkContext.getOrCreate(SparkConf().setMaster(\"local[*]\"))\n",
    "\n",
    "spark = SparkSession.builder.getOrCreate()"
   ]
  },
  {
   "cell_type": "code",
   "execution_count": null,
   "metadata": {},
   "outputs": [],
   "source": [
    "from pyspark import SparkConf, SparkContext\n",
    "\n",
    "### Set up SparkContext\n",
    "conf = SparkConf().setMaster('local').setAppName('Test')\n",
    "sc = SparkContext(conf = conf)"
   ]
  },
  {
   "cell_type": "code",
   "execution_count": null,
   "metadata": {},
   "outputs": [],
   "source": [
    "import wget\n",
    "wget.download('https://github.com/IBM/coursera/raw/master/coursera_ml/a2.parquet')"
   ]
  },
  {
   "cell_type": "code",
   "execution_count": null,
   "metadata": {},
   "outputs": [],
   "source": [
    "df=spark.read.load('a2.parquet')\n",
    "\n",
    "df.createOrReplaceTempView(\"df\")\n",
    "spark.sql(\"SELECT * from df\").show()"
   ]
  },
  {
   "cell_type": "code",
   "execution_count": null,
   "metadata": {},
   "outputs": [],
   "source": []
  },
  {
   "cell_type": "code",
   "execution_count": null,
   "metadata": {},
   "outputs": [],
   "source": []
  },
  {
   "cell_type": "code",
   "execution_count": null,
   "metadata": {},
   "outputs": [],
   "source": []
  },
  {
   "cell_type": "code",
   "execution_count": null,
   "metadata": {},
   "outputs": [],
   "source": [
    "# Naming convention\n",
    "\n",
    "[project_name].data_exp.<technology>.<version>.<extension>\n",
    "[project_name].etl.<technology>.<version>.<extension>\n",
    "[project_name].feature_eng.<technology>.<version>.<extension>\n",
    "[project_name].model_def.<technology>.<version>.<extension>\n",
    "[project_name].model_train.<technology>.<version>.<extension>\n",
    "[project_name].model_evaluate.<technology>.<version>.<extension>\n",
    "[project_name].model_deployment.<technology>.<version>.<extension>"
   ]
  },
  {
   "cell_type": "code",
   "execution_count": null,
   "metadata": {},
   "outputs": [],
   "source": [
    "Process Model Guidelines help to provide necessary annotation to the code upon which the model is built. A well-annotated model serves both the author and future users of the code.\n",
    "Architectural Decision Guidelines ensure that data science projects are repeatable, reproducible. They also facilitate collaboration and the accommodation of Non-Functional-Requirements (NFR)"
   ]
  },
  {
   "cell_type": "code",
   "execution_count": null,
   "metadata": {},
   "outputs": [],
   "source": [
    "from pyspark import SparkContext\n",
    "sc = SparkContext(\"local\", \"First App\")"
   ]
  },
  {
   "cell_type": "code",
   "execution_count": 24,
   "metadata": {},
   "outputs": [
    {
     "name": "stdout",
     "output_type": "stream",
     "text": [
      "Requirement already satisfied: findspark in c:\\users\\adejokun adedamola\\anaconda3\\lib\\site-packages (1.4.2)\n"
     ]
    }
   ],
   "source": [
    "# initialize pyspark\n",
    "!pip install findspark\n",
    "import findspark\n",
    "findspark.init()\n",
    "\n",
    "# perhaps not necessary. define sparkcontext separately\n",
    "#import pyspark\n",
    "#sc = pyspark.SparkContext(appName=\"myAppName\")"
   ]
  },
  {
   "cell_type": "code",
   "execution_count": null,
   "metadata": {},
   "outputs": [],
   "source": []
  }
 ],
 "metadata": {
  "kernelspec": {
   "display_name": "Python 3",
   "language": "python",
   "name": "python3"
  },
  "language_info": {
   "codemirror_mode": {
    "name": "ipython",
    "version": 3
   },
   "file_extension": ".py",
   "mimetype": "text/x-python",
   "name": "python",
   "nbconvert_exporter": "python",
   "pygments_lexer": "ipython3",
   "version": "3.7.4"
  }
 },
 "nbformat": 4,
 "nbformat_minor": 2
}
